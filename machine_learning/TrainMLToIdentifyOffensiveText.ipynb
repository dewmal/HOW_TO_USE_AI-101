{
  "nbformat": 4,
  "nbformat_minor": 0,
  "metadata": {
    "colab": {
      "name": "TrainMLToIdentifyOffensiveText",
      "provenance": [],
      "toc_visible": true
    },
    "kernelspec": {
      "name": "python3",
      "display_name": "Python 3"
    }
  },
  "cells": [
    {
      "cell_type": "markdown",
      "metadata": {
        "id": "_p8t_MKhhDxE"
      },
      "source": [
        "### 1. import things"
      ]
    },
    {
      "cell_type": "code",
      "metadata": {
        "id": "DntSDQeig9mC"
      },
      "source": [
        "import pandas as pd\r\n",
        "\r\n",
        "#Import NLP Things\r\n",
        "from nltk.corpus import stopwords\r\n",
        "from nltk import word_tokenize\r\n",
        "\r\n",
        "# Traning Support Tools\r\n",
        "from sklearn.model_selection import train_test_split  \r\n",
        "\r\n",
        "# Machine learing support tools\r\n",
        "from keras.preprocessing.text import Tokenizer,text_to_word_sequence\r\n",
        "\r\n",
        "# Aritficial Neural Network Modal\r\n",
        "from keras.models import Sequential,load_model\r\n",
        "from keras.layers import Dense, Dropout, Activation"
      ],
      "execution_count": null,
      "outputs": []
    },
    {
      "cell_type": "code",
      "metadata": {
        "colab": {
          "base_uri": "https://localhost:8080/"
        },
        "id": "YmUreS_5iEUq",
        "outputId": "92e409a0-18d5-4001-a225-f9c4d95c182e"
      },
      "source": [
        "#Download NLTK Data\r\n",
        "import nltk\r\n",
        "nltk.download(\"stopwords\")\r\n",
        "nltk.download('punkt')"
      ],
      "execution_count": null,
      "outputs": [
        {
          "output_type": "stream",
          "text": [
            "[nltk_data] Downloading package stopwords to /root/nltk_data...\n",
            "[nltk_data]   Package stopwords is already up-to-date!\n",
            "[nltk_data] Downloading package punkt to /root/nltk_data...\n",
            "[nltk_data]   Unzipping tokenizers/punkt.zip.\n"
          ],
          "name": "stdout"
        },
        {
          "output_type": "execute_result",
          "data": {
            "text/plain": [
              "True"
            ]
          },
          "metadata": {
            "tags": []
          },
          "execution_count": 15
        }
      ]
    },
    {
      "cell_type": "markdown",
      "metadata": {
        "id": "sNBibwzZhNLI"
      },
      "source": [
        "### 2.Read Data"
      ]
    },
    {
      "cell_type": "code",
      "metadata": {
        "id": "FJMnbEFWhUIA"
      },
      "source": [
        "dataset = pd.read_csv(\"/content/bully.csv\")\r\n",
        "X = pd.DataFrame(dataset,columns=[\"Comment\"])\r\n",
        "Y = pd.DataFrame(dataset,columns=[\"Insult\"])"
      ],
      "execution_count": null,
      "outputs": []
    },
    {
      "cell_type": "code",
      "metadata": {
        "colab": {
          "base_uri": "https://localhost:8080/",
          "height": 206
        },
        "id": "xyGGy-Zjhk_3",
        "outputId": "378d6f5e-c1f9-41cd-d8bb-af027afe8afb"
      },
      "source": [
        "dataset.head()"
      ],
      "execution_count": null,
      "outputs": [
        {
          "output_type": "execute_result",
          "data": {
            "text/html": [
              "<div>\n",
              "<style scoped>\n",
              "    .dataframe tbody tr th:only-of-type {\n",
              "        vertical-align: middle;\n",
              "    }\n",
              "\n",
              "    .dataframe tbody tr th {\n",
              "        vertical-align: top;\n",
              "    }\n",
              "\n",
              "    .dataframe thead th {\n",
              "        text-align: right;\n",
              "    }\n",
              "</style>\n",
              "<table border=\"1\" class=\"dataframe\">\n",
              "  <thead>\n",
              "    <tr style=\"text-align: right;\">\n",
              "      <th></th>\n",
              "      <th>Comment</th>\n",
              "      <th>Insult</th>\n",
              "    </tr>\n",
              "  </thead>\n",
              "  <tbody>\n",
              "    <tr>\n",
              "      <th>0</th>\n",
              "      <td>i like the pictures you know she just wants to...</td>\n",
              "      <td>0</td>\n",
              "    </tr>\n",
              "    <tr>\n",
              "      <th>1</th>\n",
              "      <td>more crapple stuff for the fanboys to jurk off...</td>\n",
              "      <td>1</td>\n",
              "    </tr>\n",
              "    <tr>\n",
              "      <th>2</th>\n",
              "      <td>how dare you say such a hateful thing</td>\n",
              "      <td>0</td>\n",
              "    </tr>\n",
              "    <tr>\n",
              "      <th>3</th>\n",
              "      <td>hey bertone you are the certified liar here yo...</td>\n",
              "      <td>1</td>\n",
              "    </tr>\n",
              "    <tr>\n",
              "      <th>4</th>\n",
              "      <td>we did not even know who the rebels really are...</td>\n",
              "      <td>0</td>\n",
              "    </tr>\n",
              "  </tbody>\n",
              "</table>\n",
              "</div>"
            ],
            "text/plain": [
              "                                             Comment  Insult\n",
              "0  i like the pictures you know she just wants to...       0\n",
              "1  more crapple stuff for the fanboys to jurk off...       1\n",
              "2              how dare you say such a hateful thing       0\n",
              "3  hey bertone you are the certified liar here yo...       1\n",
              "4  we did not even know who the rebels really are...       0"
            ]
          },
          "metadata": {
            "tags": []
          },
          "execution_count": 3
        }
      ]
    },
    {
      "cell_type": "markdown",
      "metadata": {
        "id": "JiAB1QMF3I-9"
      },
      "source": [
        "### remove stop words"
      ]
    },
    {
      "cell_type": "code",
      "metadata": {
        "id": "cH2l5imchnyX"
      },
      "source": [
        "stopword = stopwords.words(\"english\")"
      ],
      "execution_count": null,
      "outputs": []
    },
    {
      "cell_type": "code",
      "metadata": {
        "id": "rBAt9Z4biAyY"
      },
      "source": [
        "def remove_stop(data):\r\n",
        "  datas = word_tokenize(data[0])\r\n",
        "  collect_word_list = []\r\n",
        "  final_list = []\r\n",
        "  for data in datas:\r\n",
        "    if data not in stopword:\r\n",
        "      collect_word_list.append(data)\r\n",
        "  final_list.append(''.join(w for w in collect_word_list))\r\n",
        "  return final_list\r\n",
        "  "
      ],
      "execution_count": null,
      "outputs": []
    },
    {
      "cell_type": "code",
      "metadata": {
        "colab": {
          "base_uri": "https://localhost:8080/"
        },
        "id": "98hdjfQGisjY",
        "outputId": "ff4f4430-7a2e-4ea8-98da-d764a3385a4d"
      },
      "source": [
        "formated_training_set =[]\r\n",
        "for x in X.values:\r\n",
        "  formated_training_set.append(remove_stop(x))\r\n",
        "X = formated_training_set\r\n",
        "print(len(X))\r\n",
        "y_train = Y.values"
      ],
      "execution_count": null,
      "outputs": [
        {
          "output_type": "stream",
          "text": [
            "3494\n"
          ],
          "name": "stdout"
        }
      ]
    },
    {
      "cell_type": "code",
      "metadata": {
        "id": "TKQguvymjDWr"
      },
      "source": [
        "X,x_test,y_train,y_test = train_test_split(X,y_train,shuffle=True)"
      ],
      "execution_count": null,
      "outputs": []
    },
    {
      "cell_type": "code",
      "metadata": {
        "id": "g5dw_KldjpJB"
      },
      "source": [
        "transformed_data = []\r\n",
        "for x in X:\r\n",
        "  transformed_data.append(x[0])\r\n",
        "test_transform = []\r\n",
        "for j in x_test:\r\n",
        "  test_transform.append(j[0])\r\n"
      ],
      "execution_count": null,
      "outputs": []
    },
    {
      "cell_type": "code",
      "metadata": {
        "id": "6cMRjcrgj7fC"
      },
      "source": [
        "max_words = 100\r\n",
        "tokenizer = Tokenizer(num_words=max_words,filters='!\"#$%&()*+,-./:;<=>?@[\\\\]^_`{|}~\\t\\n')\r\n",
        "tokenizer.fit_on_texts(transformed_data)"
      ],
      "execution_count": null,
      "outputs": []
    },
    {
      "cell_type": "code",
      "metadata": {
        "id": "qHgubGLShIF3"
      },
      "source": [
        "#Train set\r\n",
        "x_train = tokenizer.texts_to_sequences(transformed_data)\r\n",
        "x_train = tokenizer.sequences_to_matrix(x_train,mode=\"binary\")\r\n",
        "\r\n",
        "#Test set\r\n",
        "x_test = tokenizer.texts_to_sequences(test_transform)\r\n",
        "x_test = tokenizer.sequences_to_matrix(x_test,mode=\"binary\")"
      ],
      "execution_count": null,
      "outputs": []
    },
    {
      "cell_type": "code",
      "metadata": {
        "id": "hJCXQb-kmnhv"
      },
      "source": [
        "num_classes = 2\r\n",
        "batch_size = 32\r\n",
        "epochs = 200"
      ],
      "execution_count": null,
      "outputs": []
    },
    {
      "cell_type": "code",
      "metadata": {
        "colab": {
          "base_uri": "https://localhost:8080/"
        },
        "id": "LwumBRvKlZj7",
        "outputId": "5dc8099e-eceb-4c9e-b2da-20af314ca181"
      },
      "source": [
        "model = Sequential()\r\n",
        "model.add(Dense(512,input_shape=(max_words,),activation=\"relu\"))\r\n",
        "model.add(Dropout(0.3))\r\n",
        "model.add(Dense(256,activation=\"relu\"))\r\n",
        "model.add(Dense(1,activation=\"sigmoid\"))\r\n",
        "model.compile(loss=\"binary_crossentropy\",optimizer=\"adam\",metrics=[\"accuracy\"])\r\n",
        "model.fit(x_train,y_train,batch_size=batch_size,epochs=epochs,verbose=1,validation_data=(x_test,y_test))"
      ],
      "execution_count": null,
      "outputs": [
        {
          "output_type": "stream",
          "text": [
            "Epoch 1/200\n",
            "82/82 [==============================] - 1s 6ms/step - loss: 0.6914 - accuracy: 0.5013 - val_loss: 0.6847 - val_accuracy: 0.5263\n",
            "Epoch 2/200\n",
            "82/82 [==============================] - 0s 4ms/step - loss: 0.6823 - accuracy: 0.5111 - val_loss: 0.6832 - val_accuracy: 0.5263\n",
            "Epoch 3/200\n",
            "82/82 [==============================] - 0s 4ms/step - loss: 0.6714 - accuracy: 0.5207 - val_loss: 0.6827 - val_accuracy: 0.5229\n",
            "Epoch 4/200\n",
            "82/82 [==============================] - 0s 4ms/step - loss: 0.6572 - accuracy: 0.5359 - val_loss: 0.6841 - val_accuracy: 0.5229\n",
            "Epoch 5/200\n",
            "82/82 [==============================] - 0s 4ms/step - loss: 0.6556 - accuracy: 0.5289 - val_loss: 0.6804 - val_accuracy: 0.5263\n",
            "Epoch 6/200\n",
            "82/82 [==============================] - 0s 4ms/step - loss: 0.6616 - accuracy: 0.5141 - val_loss: 0.6804 - val_accuracy: 0.5263\n",
            "Epoch 7/200\n",
            "82/82 [==============================] - 0s 4ms/step - loss: 0.6519 - accuracy: 0.5368 - val_loss: 0.6826 - val_accuracy: 0.5229\n",
            "Epoch 8/200\n",
            "82/82 [==============================] - 0s 4ms/step - loss: 0.6543 - accuracy: 0.5338 - val_loss: 0.6809 - val_accuracy: 0.5263\n",
            "Epoch 9/200\n",
            "82/82 [==============================] - 0s 4ms/step - loss: 0.6495 - accuracy: 0.5499 - val_loss: 0.6805 - val_accuracy: 0.5263\n",
            "Epoch 10/200\n",
            "82/82 [==============================] - 0s 4ms/step - loss: 0.6580 - accuracy: 0.5206 - val_loss: 0.6810 - val_accuracy: 0.5263\n",
            "Epoch 11/200\n",
            "82/82 [==============================] - 0s 6ms/step - loss: 0.6564 - accuracy: 0.5234 - val_loss: 0.6826 - val_accuracy: 0.5229\n",
            "Epoch 12/200\n",
            "82/82 [==============================] - 0s 4ms/step - loss: 0.6587 - accuracy: 0.5353 - val_loss: 0.6813 - val_accuracy: 0.5263\n",
            "Epoch 13/200\n",
            "82/82 [==============================] - 0s 4ms/step - loss: 0.6519 - accuracy: 0.5334 - val_loss: 0.6808 - val_accuracy: 0.5263\n",
            "Epoch 14/200\n",
            "82/82 [==============================] - 0s 4ms/step - loss: 0.6543 - accuracy: 0.5530 - val_loss: 0.6814 - val_accuracy: 0.5263\n",
            "Epoch 15/200\n",
            "82/82 [==============================] - 0s 4ms/step - loss: 0.6569 - accuracy: 0.5450 - val_loss: 0.6813 - val_accuracy: 0.5263\n",
            "Epoch 16/200\n",
            "82/82 [==============================] - 0s 4ms/step - loss: 0.6555 - accuracy: 0.5442 - val_loss: 0.6816 - val_accuracy: 0.5263\n",
            "Epoch 17/200\n",
            "82/82 [==============================] - 0s 4ms/step - loss: 0.6599 - accuracy: 0.5082 - val_loss: 0.6819 - val_accuracy: 0.5229\n",
            "Epoch 18/200\n",
            "82/82 [==============================] - 0s 4ms/step - loss: 0.6589 - accuracy: 0.5427 - val_loss: 0.6818 - val_accuracy: 0.5229\n",
            "Epoch 19/200\n",
            "82/82 [==============================] - 0s 4ms/step - loss: 0.6500 - accuracy: 0.5451 - val_loss: 0.6816 - val_accuracy: 0.5263\n",
            "Epoch 20/200\n",
            "82/82 [==============================] - 0s 4ms/step - loss: 0.6548 - accuracy: 0.5279 - val_loss: 0.6818 - val_accuracy: 0.5229\n",
            "Epoch 21/200\n",
            "82/82 [==============================] - 0s 4ms/step - loss: 0.6561 - accuracy: 0.5406 - val_loss: 0.6813 - val_accuracy: 0.5263\n",
            "Epoch 22/200\n",
            "82/82 [==============================] - 0s 4ms/step - loss: 0.6595 - accuracy: 0.5370 - val_loss: 0.6816 - val_accuracy: 0.5263\n",
            "Epoch 23/200\n",
            "82/82 [==============================] - 0s 4ms/step - loss: 0.6616 - accuracy: 0.5255 - val_loss: 0.6815 - val_accuracy: 0.5263\n",
            "Epoch 24/200\n",
            "82/82 [==============================] - 0s 4ms/step - loss: 0.6613 - accuracy: 0.5344 - val_loss: 0.6816 - val_accuracy: 0.5263\n",
            "Epoch 25/200\n",
            "82/82 [==============================] - 0s 4ms/step - loss: 0.6581 - accuracy: 0.5214 - val_loss: 0.6818 - val_accuracy: 0.5229\n",
            "Epoch 26/200\n",
            "82/82 [==============================] - 0s 4ms/step - loss: 0.6565 - accuracy: 0.5353 - val_loss: 0.6816 - val_accuracy: 0.5263\n",
            "Epoch 27/200\n",
            "82/82 [==============================] - 0s 4ms/step - loss: 0.6562 - accuracy: 0.5133 - val_loss: 0.6815 - val_accuracy: 0.5263\n",
            "Epoch 28/200\n",
            "82/82 [==============================] - 0s 4ms/step - loss: 0.6543 - accuracy: 0.5122 - val_loss: 0.6814 - val_accuracy: 0.5263\n",
            "Epoch 29/200\n",
            "82/82 [==============================] - 0s 4ms/step - loss: 0.6570 - accuracy: 0.5375 - val_loss: 0.6816 - val_accuracy: 0.5263\n",
            "Epoch 30/200\n",
            "82/82 [==============================] - 0s 4ms/step - loss: 0.6589 - accuracy: 0.5104 - val_loss: 0.6816 - val_accuracy: 0.5263\n",
            "Epoch 31/200\n",
            "82/82 [==============================] - 0s 4ms/step - loss: 0.6587 - accuracy: 0.5345 - val_loss: 0.6815 - val_accuracy: 0.5263\n",
            "Epoch 32/200\n",
            "82/82 [==============================] - 0s 4ms/step - loss: 0.6538 - accuracy: 0.5383 - val_loss: 0.6816 - val_accuracy: 0.5263\n",
            "Epoch 33/200\n",
            "82/82 [==============================] - 0s 4ms/step - loss: 0.6530 - accuracy: 0.5565 - val_loss: 0.6817 - val_accuracy: 0.5263\n",
            "Epoch 34/200\n",
            "82/82 [==============================] - 0s 4ms/step - loss: 0.6550 - accuracy: 0.5249 - val_loss: 0.6817 - val_accuracy: 0.5229\n",
            "Epoch 35/200\n",
            "82/82 [==============================] - 0s 4ms/step - loss: 0.6528 - accuracy: 0.5512 - val_loss: 0.6817 - val_accuracy: 0.5263\n",
            "Epoch 36/200\n",
            "82/82 [==============================] - 0s 4ms/step - loss: 0.6496 - accuracy: 0.5333 - val_loss: 0.6816 - val_accuracy: 0.5263\n",
            "Epoch 37/200\n",
            "82/82 [==============================] - 0s 4ms/step - loss: 0.6535 - accuracy: 0.5419 - val_loss: 0.6817 - val_accuracy: 0.5263\n",
            "Epoch 38/200\n",
            "82/82 [==============================] - 0s 4ms/step - loss: 0.6592 - accuracy: 0.5379 - val_loss: 0.6818 - val_accuracy: 0.5229\n",
            "Epoch 39/200\n",
            "82/82 [==============================] - 0s 4ms/step - loss: 0.6561 - accuracy: 0.5403 - val_loss: 0.6817 - val_accuracy: 0.5263\n",
            "Epoch 40/200\n",
            "82/82 [==============================] - 0s 4ms/step - loss: 0.6575 - accuracy: 0.5251 - val_loss: 0.6817 - val_accuracy: 0.5229\n",
            "Epoch 41/200\n",
            "82/82 [==============================] - 0s 4ms/step - loss: 0.6572 - accuracy: 0.5343 - val_loss: 0.6818 - val_accuracy: 0.5229\n",
            "Epoch 42/200\n",
            "82/82 [==============================] - 0s 4ms/step - loss: 0.6547 - accuracy: 0.5270 - val_loss: 0.6817 - val_accuracy: 0.5229\n",
            "Epoch 43/200\n",
            "82/82 [==============================] - 0s 4ms/step - loss: 0.6530 - accuracy: 0.5292 - val_loss: 0.6817 - val_accuracy: 0.5229\n",
            "Epoch 44/200\n",
            "82/82 [==============================] - 0s 6ms/step - loss: 0.6521 - accuracy: 0.5357 - val_loss: 0.6817 - val_accuracy: 0.5229\n",
            "Epoch 45/200\n",
            "82/82 [==============================] - 0s 4ms/step - loss: 0.6502 - accuracy: 0.5341 - val_loss: 0.6817 - val_accuracy: 0.5229\n",
            "Epoch 46/200\n",
            "82/82 [==============================] - 0s 4ms/step - loss: 0.6578 - accuracy: 0.5368 - val_loss: 0.6818 - val_accuracy: 0.5229\n",
            "Epoch 47/200\n",
            "82/82 [==============================] - 0s 4ms/step - loss: 0.6513 - accuracy: 0.5376 - val_loss: 0.6818 - val_accuracy: 0.5229\n",
            "Epoch 48/200\n",
            "82/82 [==============================] - 0s 4ms/step - loss: 0.6537 - accuracy: 0.5386 - val_loss: 0.6817 - val_accuracy: 0.5229\n",
            "Epoch 49/200\n",
            "82/82 [==============================] - 0s 4ms/step - loss: 0.6524 - accuracy: 0.5415 - val_loss: 0.6817 - val_accuracy: 0.5229\n",
            "Epoch 50/200\n",
            "82/82 [==============================] - 0s 4ms/step - loss: 0.6579 - accuracy: 0.5229 - val_loss: 0.6817 - val_accuracy: 0.5229\n",
            "Epoch 51/200\n",
            "82/82 [==============================] - 0s 4ms/step - loss: 0.6539 - accuracy: 0.5409 - val_loss: 0.6817 - val_accuracy: 0.5229\n",
            "Epoch 52/200\n",
            "82/82 [==============================] - 0s 4ms/step - loss: 0.6603 - accuracy: 0.5314 - val_loss: 0.6818 - val_accuracy: 0.5229\n",
            "Epoch 53/200\n",
            "82/82 [==============================] - 0s 4ms/step - loss: 0.6589 - accuracy: 0.5325 - val_loss: 0.6818 - val_accuracy: 0.5229\n",
            "Epoch 54/200\n",
            "82/82 [==============================] - 0s 4ms/step - loss: 0.6573 - accuracy: 0.5377 - val_loss: 0.6817 - val_accuracy: 0.5229\n",
            "Epoch 55/200\n",
            "82/82 [==============================] - 0s 4ms/step - loss: 0.6594 - accuracy: 0.5227 - val_loss: 0.6817 - val_accuracy: 0.5229\n",
            "Epoch 56/200\n",
            "82/82 [==============================] - 0s 4ms/step - loss: 0.6556 - accuracy: 0.5332 - val_loss: 0.6817 - val_accuracy: 0.5263\n",
            "Epoch 57/200\n",
            "82/82 [==============================] - 0s 4ms/step - loss: 0.6569 - accuracy: 0.5101 - val_loss: 0.6817 - val_accuracy: 0.5229\n",
            "Epoch 58/200\n",
            "82/82 [==============================] - 0s 4ms/step - loss: 0.6584 - accuracy: 0.5208 - val_loss: 0.6817 - val_accuracy: 0.5229\n",
            "Epoch 59/200\n",
            "82/82 [==============================] - 0s 4ms/step - loss: 0.6611 - accuracy: 0.5338 - val_loss: 0.6817 - val_accuracy: 0.5229\n",
            "Epoch 60/200\n",
            "82/82 [==============================] - 0s 4ms/step - loss: 0.6550 - accuracy: 0.5483 - val_loss: 0.6817 - val_accuracy: 0.5229\n",
            "Epoch 61/200\n",
            "82/82 [==============================] - 0s 4ms/step - loss: 0.6596 - accuracy: 0.5326 - val_loss: 0.6817 - val_accuracy: 0.5229\n",
            "Epoch 62/200\n",
            "82/82 [==============================] - 0s 4ms/step - loss: 0.6522 - accuracy: 0.5574 - val_loss: 0.6817 - val_accuracy: 0.5229\n",
            "Epoch 63/200\n",
            "82/82 [==============================] - 0s 4ms/step - loss: 0.6574 - accuracy: 0.5428 - val_loss: 0.6819 - val_accuracy: 0.5229\n",
            "Epoch 64/200\n",
            "82/82 [==============================] - 0s 4ms/step - loss: 0.6547 - accuracy: 0.5191 - val_loss: 0.6819 - val_accuracy: 0.5229\n",
            "Epoch 65/200\n",
            "82/82 [==============================] - 0s 4ms/step - loss: 0.6519 - accuracy: 0.5326 - val_loss: 0.6818 - val_accuracy: 0.5229\n",
            "Epoch 66/200\n",
            "82/82 [==============================] - 0s 4ms/step - loss: 0.6574 - accuracy: 0.5248 - val_loss: 0.6818 - val_accuracy: 0.5229\n",
            "Epoch 67/200\n",
            "82/82 [==============================] - 0s 4ms/step - loss: 0.6553 - accuracy: 0.5270 - val_loss: 0.6817 - val_accuracy: 0.5229\n",
            "Epoch 68/200\n",
            "82/82 [==============================] - 0s 4ms/step - loss: 0.6531 - accuracy: 0.5473 - val_loss: 0.6817 - val_accuracy: 0.5229\n",
            "Epoch 69/200\n",
            "82/82 [==============================] - 0s 4ms/step - loss: 0.6561 - accuracy: 0.5305 - val_loss: 0.6817 - val_accuracy: 0.5229\n",
            "Epoch 70/200\n",
            "82/82 [==============================] - 0s 4ms/step - loss: 0.6596 - accuracy: 0.5370 - val_loss: 0.6817 - val_accuracy: 0.5229\n",
            "Epoch 71/200\n",
            "82/82 [==============================] - 0s 4ms/step - loss: 0.6610 - accuracy: 0.5212 - val_loss: 0.6817 - val_accuracy: 0.5229\n",
            "Epoch 72/200\n",
            "82/82 [==============================] - 0s 4ms/step - loss: 0.6526 - accuracy: 0.5330 - val_loss: 0.6817 - val_accuracy: 0.5229\n",
            "Epoch 73/200\n",
            "82/82 [==============================] - 0s 4ms/step - loss: 0.6583 - accuracy: 0.5311 - val_loss: 0.6817 - val_accuracy: 0.5229\n",
            "Epoch 74/200\n",
            "82/82 [==============================] - 0s 4ms/step - loss: 0.6592 - accuracy: 0.5255 - val_loss: 0.6817 - val_accuracy: 0.5229\n",
            "Epoch 75/200\n",
            "82/82 [==============================] - 0s 4ms/step - loss: 0.6612 - accuracy: 0.5244 - val_loss: 0.6817 - val_accuracy: 0.5229\n",
            "Epoch 76/200\n",
            "82/82 [==============================] - 0s 4ms/step - loss: 0.6566 - accuracy: 0.5320 - val_loss: 0.6817 - val_accuracy: 0.5229\n",
            "Epoch 77/200\n",
            "82/82 [==============================] - 0s 4ms/step - loss: 0.6536 - accuracy: 0.5167 - val_loss: 0.6817 - val_accuracy: 0.5229\n",
            "Epoch 78/200\n",
            "82/82 [==============================] - 0s 6ms/step - loss: 0.6549 - accuracy: 0.5563 - val_loss: 0.6816 - val_accuracy: 0.5229\n",
            "Epoch 79/200\n",
            "82/82 [==============================] - 0s 4ms/step - loss: 0.6579 - accuracy: 0.5406 - val_loss: 0.6817 - val_accuracy: 0.5229\n",
            "Epoch 80/200\n",
            "82/82 [==============================] - 0s 4ms/step - loss: 0.6562 - accuracy: 0.5367 - val_loss: 0.6817 - val_accuracy: 0.5229\n",
            "Epoch 81/200\n",
            "82/82 [==============================] - 0s 4ms/step - loss: 0.6559 - accuracy: 0.5401 - val_loss: 0.6817 - val_accuracy: 0.5229\n",
            "Epoch 82/200\n",
            "82/82 [==============================] - 0s 4ms/step - loss: 0.6608 - accuracy: 0.5335 - val_loss: 0.6817 - val_accuracy: 0.5229\n",
            "Epoch 83/200\n",
            "82/82 [==============================] - 0s 4ms/step - loss: 0.6570 - accuracy: 0.5376 - val_loss: 0.6817 - val_accuracy: 0.5229\n",
            "Epoch 84/200\n",
            "82/82 [==============================] - 0s 4ms/step - loss: 0.6571 - accuracy: 0.5249 - val_loss: 0.6817 - val_accuracy: 0.5229\n",
            "Epoch 85/200\n",
            "82/82 [==============================] - 0s 4ms/step - loss: 0.6621 - accuracy: 0.5326 - val_loss: 0.6817 - val_accuracy: 0.5229\n",
            "Epoch 86/200\n",
            "82/82 [==============================] - 0s 4ms/step - loss: 0.6546 - accuracy: 0.5437 - val_loss: 0.6817 - val_accuracy: 0.5229\n",
            "Epoch 87/200\n",
            "82/82 [==============================] - 0s 4ms/step - loss: 0.6574 - accuracy: 0.5449 - val_loss: 0.6817 - val_accuracy: 0.5229\n",
            "Epoch 88/200\n",
            "82/82 [==============================] - 0s 4ms/step - loss: 0.6582 - accuracy: 0.5284 - val_loss: 0.6817 - val_accuracy: 0.5229\n",
            "Epoch 89/200\n",
            "82/82 [==============================] - 0s 4ms/step - loss: 0.6531 - accuracy: 0.5308 - val_loss: 0.6817 - val_accuracy: 0.5229\n",
            "Epoch 90/200\n",
            "82/82 [==============================] - 0s 4ms/step - loss: 0.6549 - accuracy: 0.5494 - val_loss: 0.6817 - val_accuracy: 0.5229\n",
            "Epoch 91/200\n",
            "82/82 [==============================] - 0s 4ms/step - loss: 0.6507 - accuracy: 0.5364 - val_loss: 0.6817 - val_accuracy: 0.5229\n",
            "Epoch 92/200\n",
            "82/82 [==============================] - 0s 4ms/step - loss: 0.6580 - accuracy: 0.5270 - val_loss: 0.6817 - val_accuracy: 0.5229\n",
            "Epoch 93/200\n",
            "82/82 [==============================] - 0s 4ms/step - loss: 0.6470 - accuracy: 0.5330 - val_loss: 0.6817 - val_accuracy: 0.5229\n",
            "Epoch 94/200\n",
            "82/82 [==============================] - 0s 4ms/step - loss: 0.6606 - accuracy: 0.5286 - val_loss: 0.6817 - val_accuracy: 0.5229\n",
            "Epoch 95/200\n",
            "82/82 [==============================] - 0s 5ms/step - loss: 0.6511 - accuracy: 0.5455 - val_loss: 0.6817 - val_accuracy: 0.5229\n",
            "Epoch 96/200\n",
            "82/82 [==============================] - 0s 4ms/step - loss: 0.6574 - accuracy: 0.5204 - val_loss: 0.6817 - val_accuracy: 0.5229\n",
            "Epoch 97/200\n",
            "82/82 [==============================] - 0s 4ms/step - loss: 0.6553 - accuracy: 0.5396 - val_loss: 0.6817 - val_accuracy: 0.5229\n",
            "Epoch 98/200\n",
            "82/82 [==============================] - 0s 4ms/step - loss: 0.6595 - accuracy: 0.5260 - val_loss: 0.6817 - val_accuracy: 0.5229\n",
            "Epoch 99/200\n",
            "82/82 [==============================] - 0s 5ms/step - loss: 0.6635 - accuracy: 0.5134 - val_loss: 0.6817 - val_accuracy: 0.5229\n",
            "Epoch 100/200\n",
            "82/82 [==============================] - 0s 4ms/step - loss: 0.6547 - accuracy: 0.5385 - val_loss: 0.6817 - val_accuracy: 0.5229\n",
            "Epoch 101/200\n",
            "82/82 [==============================] - 0s 4ms/step - loss: 0.6549 - accuracy: 0.5453 - val_loss: 0.6817 - val_accuracy: 0.5229\n",
            "Epoch 102/200\n",
            "82/82 [==============================] - 0s 5ms/step - loss: 0.6588 - accuracy: 0.5375 - val_loss: 0.6817 - val_accuracy: 0.5229\n",
            "Epoch 103/200\n",
            "82/82 [==============================] - 0s 4ms/step - loss: 0.6557 - accuracy: 0.5415 - val_loss: 0.6817 - val_accuracy: 0.5229\n",
            "Epoch 104/200\n",
            "82/82 [==============================] - 0s 4ms/step - loss: 0.6502 - accuracy: 0.5395 - val_loss: 0.6817 - val_accuracy: 0.5229\n",
            "Epoch 105/200\n",
            "82/82 [==============================] - 0s 4ms/step - loss: 0.6542 - accuracy: 0.5456 - val_loss: 0.6817 - val_accuracy: 0.5229\n",
            "Epoch 106/200\n",
            "82/82 [==============================] - 0s 4ms/step - loss: 0.6517 - accuracy: 0.5517 - val_loss: 0.6817 - val_accuracy: 0.5229\n",
            "Epoch 107/200\n",
            "82/82 [==============================] - 0s 4ms/step - loss: 0.6597 - accuracy: 0.5322 - val_loss: 0.6817 - val_accuracy: 0.5229\n",
            "Epoch 108/200\n",
            "82/82 [==============================] - 0s 4ms/step - loss: 0.6538 - accuracy: 0.5465 - val_loss: 0.6817 - val_accuracy: 0.5229\n",
            "Epoch 109/200\n",
            "82/82 [==============================] - 0s 4ms/step - loss: 0.6555 - accuracy: 0.5375 - val_loss: 0.6817 - val_accuracy: 0.5229\n",
            "Epoch 110/200\n",
            "82/82 [==============================] - 0s 4ms/step - loss: 0.6559 - accuracy: 0.5454 - val_loss: 0.6817 - val_accuracy: 0.5229\n",
            "Epoch 111/200\n",
            "82/82 [==============================] - 0s 6ms/step - loss: 0.6592 - accuracy: 0.5213 - val_loss: 0.6817 - val_accuracy: 0.5229\n",
            "Epoch 112/200\n",
            "82/82 [==============================] - 0s 4ms/step - loss: 0.6575 - accuracy: 0.5449 - val_loss: 0.6817 - val_accuracy: 0.5229\n",
            "Epoch 113/200\n",
            "82/82 [==============================] - 0s 4ms/step - loss: 0.6537 - accuracy: 0.5408 - val_loss: 0.6817 - val_accuracy: 0.5229\n",
            "Epoch 114/200\n",
            "82/82 [==============================] - 0s 4ms/step - loss: 0.6573 - accuracy: 0.5418 - val_loss: 0.6817 - val_accuracy: 0.5229\n",
            "Epoch 115/200\n",
            "82/82 [==============================] - 0s 4ms/step - loss: 0.6531 - accuracy: 0.5397 - val_loss: 0.6817 - val_accuracy: 0.5229\n",
            "Epoch 116/200\n",
            "82/82 [==============================] - 0s 4ms/step - loss: 0.6528 - accuracy: 0.5321 - val_loss: 0.6817 - val_accuracy: 0.5229\n",
            "Epoch 117/200\n",
            "82/82 [==============================] - 0s 4ms/step - loss: 0.6592 - accuracy: 0.5313 - val_loss: 0.6817 - val_accuracy: 0.5229\n",
            "Epoch 118/200\n",
            "82/82 [==============================] - 0s 4ms/step - loss: 0.6530 - accuracy: 0.5383 - val_loss: 0.6817 - val_accuracy: 0.5229\n",
            "Epoch 119/200\n",
            "82/82 [==============================] - 0s 4ms/step - loss: 0.6541 - accuracy: 0.5354 - val_loss: 0.6816 - val_accuracy: 0.5229\n",
            "Epoch 120/200\n",
            "82/82 [==============================] - 0s 4ms/step - loss: 0.6540 - accuracy: 0.5294 - val_loss: 0.6817 - val_accuracy: 0.5229\n",
            "Epoch 121/200\n",
            "82/82 [==============================] - 0s 4ms/step - loss: 0.6576 - accuracy: 0.5349 - val_loss: 0.6817 - val_accuracy: 0.5229\n",
            "Epoch 122/200\n",
            "82/82 [==============================] - 0s 4ms/step - loss: 0.6549 - accuracy: 0.5461 - val_loss: 0.6817 - val_accuracy: 0.5229\n",
            "Epoch 123/200\n",
            "82/82 [==============================] - 0s 4ms/step - loss: 0.6557 - accuracy: 0.5257 - val_loss: 0.6817 - val_accuracy: 0.5229\n",
            "Epoch 124/200\n",
            "82/82 [==============================] - 0s 4ms/step - loss: 0.6603 - accuracy: 0.5251 - val_loss: 0.6817 - val_accuracy: 0.5229\n",
            "Epoch 125/200\n",
            "82/82 [==============================] - 0s 4ms/step - loss: 0.6535 - accuracy: 0.5348 - val_loss: 0.6817 - val_accuracy: 0.5229\n",
            "Epoch 126/200\n",
            "82/82 [==============================] - 0s 4ms/step - loss: 0.6575 - accuracy: 0.5369 - val_loss: 0.6817 - val_accuracy: 0.5229\n",
            "Epoch 127/200\n",
            "82/82 [==============================] - 0s 4ms/step - loss: 0.6584 - accuracy: 0.5353 - val_loss: 0.6816 - val_accuracy: 0.5229\n",
            "Epoch 128/200\n",
            "82/82 [==============================] - 0s 5ms/step - loss: 0.6537 - accuracy: 0.5283 - val_loss: 0.6817 - val_accuracy: 0.5229\n",
            "Epoch 129/200\n",
            "82/82 [==============================] - 0s 4ms/step - loss: 0.6510 - accuracy: 0.5392 - val_loss: 0.6817 - val_accuracy: 0.5229\n",
            "Epoch 130/200\n",
            "82/82 [==============================] - 0s 4ms/step - loss: 0.6563 - accuracy: 0.5383 - val_loss: 0.6817 - val_accuracy: 0.5229\n",
            "Epoch 131/200\n",
            "82/82 [==============================] - 0s 4ms/step - loss: 0.6549 - accuracy: 0.5314 - val_loss: 0.6817 - val_accuracy: 0.5229\n",
            "Epoch 132/200\n",
            "82/82 [==============================] - 0s 4ms/step - loss: 0.6595 - accuracy: 0.5341 - val_loss: 0.6817 - val_accuracy: 0.5229\n",
            "Epoch 133/200\n",
            "82/82 [==============================] - 0s 4ms/step - loss: 0.6537 - accuracy: 0.5322 - val_loss: 0.6817 - val_accuracy: 0.5229\n",
            "Epoch 134/200\n",
            "82/82 [==============================] - 0s 4ms/step - loss: 0.6560 - accuracy: 0.5229 - val_loss: 0.6817 - val_accuracy: 0.5229\n",
            "Epoch 135/200\n",
            "82/82 [==============================] - 0s 4ms/step - loss: 0.6611 - accuracy: 0.5187 - val_loss: 0.6817 - val_accuracy: 0.5229\n",
            "Epoch 136/200\n",
            "82/82 [==============================] - 0s 4ms/step - loss: 0.6547 - accuracy: 0.5347 - val_loss: 0.6817 - val_accuracy: 0.5229\n",
            "Epoch 137/200\n",
            "82/82 [==============================] - 0s 4ms/step - loss: 0.6542 - accuracy: 0.5197 - val_loss: 0.6817 - val_accuracy: 0.5229\n",
            "Epoch 138/200\n",
            "82/82 [==============================] - 0s 4ms/step - loss: 0.6528 - accuracy: 0.5292 - val_loss: 0.6817 - val_accuracy: 0.5229\n",
            "Epoch 139/200\n",
            "82/82 [==============================] - 0s 4ms/step - loss: 0.6575 - accuracy: 0.5374 - val_loss: 0.6817 - val_accuracy: 0.5229\n",
            "Epoch 140/200\n",
            "82/82 [==============================] - 0s 4ms/step - loss: 0.6579 - accuracy: 0.5377 - val_loss: 0.6817 - val_accuracy: 0.5229\n",
            "Epoch 141/200\n",
            "82/82 [==============================] - 0s 4ms/step - loss: 0.6545 - accuracy: 0.5492 - val_loss: 0.6817 - val_accuracy: 0.5229\n",
            "Epoch 142/200\n",
            "82/82 [==============================] - 0s 4ms/step - loss: 0.6554 - accuracy: 0.5079 - val_loss: 0.6817 - val_accuracy: 0.5229\n",
            "Epoch 143/200\n",
            "82/82 [==============================] - 0s 4ms/step - loss: 0.6558 - accuracy: 0.5416 - val_loss: 0.6816 - val_accuracy: 0.5229\n",
            "Epoch 144/200\n",
            "82/82 [==============================] - 0s 6ms/step - loss: 0.6546 - accuracy: 0.5275 - val_loss: 0.6816 - val_accuracy: 0.5229\n",
            "Epoch 145/200\n",
            "82/82 [==============================] - 0s 4ms/step - loss: 0.6580 - accuracy: 0.5042 - val_loss: 0.6816 - val_accuracy: 0.5229\n",
            "Epoch 146/200\n",
            "82/82 [==============================] - 0s 5ms/step - loss: 0.6575 - accuracy: 0.5220 - val_loss: 0.6816 - val_accuracy: 0.5229\n",
            "Epoch 147/200\n",
            "82/82 [==============================] - 0s 4ms/step - loss: 0.6566 - accuracy: 0.5290 - val_loss: 0.6816 - val_accuracy: 0.5229\n",
            "Epoch 148/200\n",
            "82/82 [==============================] - 0s 4ms/step - loss: 0.6572 - accuracy: 0.5290 - val_loss: 0.6817 - val_accuracy: 0.5229\n",
            "Epoch 149/200\n",
            "82/82 [==============================] - 0s 4ms/step - loss: 0.6576 - accuracy: 0.5438 - val_loss: 0.6817 - val_accuracy: 0.5229\n",
            "Epoch 150/200\n",
            "82/82 [==============================] - 0s 4ms/step - loss: 0.6560 - accuracy: 0.5384 - val_loss: 0.6818 - val_accuracy: 0.5229\n",
            "Epoch 151/200\n",
            "82/82 [==============================] - 0s 4ms/step - loss: 0.6545 - accuracy: 0.5320 - val_loss: 0.6817 - val_accuracy: 0.5229\n",
            "Epoch 152/200\n",
            "82/82 [==============================] - 0s 4ms/step - loss: 0.6564 - accuracy: 0.5142 - val_loss: 0.6817 - val_accuracy: 0.5229\n",
            "Epoch 153/200\n",
            "82/82 [==============================] - 0s 5ms/step - loss: 0.6546 - accuracy: 0.5393 - val_loss: 0.6816 - val_accuracy: 0.5229\n",
            "Epoch 154/200\n",
            "82/82 [==============================] - 0s 4ms/step - loss: 0.6570 - accuracy: 0.5280 - val_loss: 0.6817 - val_accuracy: 0.5229\n",
            "Epoch 155/200\n",
            "82/82 [==============================] - 0s 4ms/step - loss: 0.6528 - accuracy: 0.5351 - val_loss: 0.6817 - val_accuracy: 0.5229\n",
            "Epoch 156/200\n",
            "82/82 [==============================] - 0s 5ms/step - loss: 0.6531 - accuracy: 0.5481 - val_loss: 0.6820 - val_accuracy: 0.4931\n",
            "Epoch 157/200\n",
            "82/82 [==============================] - 0s 5ms/step - loss: 0.6539 - accuracy: 0.5305 - val_loss: 0.6816 - val_accuracy: 0.5229\n",
            "Epoch 158/200\n",
            "82/82 [==============================] - 0s 5ms/step - loss: 0.6548 - accuracy: 0.5305 - val_loss: 0.6817 - val_accuracy: 0.5229\n",
            "Epoch 159/200\n",
            "82/82 [==============================] - 0s 4ms/step - loss: 0.6571 - accuracy: 0.5306 - val_loss: 0.6816 - val_accuracy: 0.5229\n",
            "Epoch 160/200\n",
            "82/82 [==============================] - 0s 4ms/step - loss: 0.6567 - accuracy: 0.5523 - val_loss: 0.6817 - val_accuracy: 0.5229\n",
            "Epoch 161/200\n",
            "82/82 [==============================] - 0s 4ms/step - loss: 0.6554 - accuracy: 0.5309 - val_loss: 0.6817 - val_accuracy: 0.5229\n",
            "Epoch 162/200\n",
            "82/82 [==============================] - 0s 4ms/step - loss: 0.6547 - accuracy: 0.5260 - val_loss: 0.6816 - val_accuracy: 0.5229\n",
            "Epoch 163/200\n",
            "82/82 [==============================] - 0s 4ms/step - loss: 0.6584 - accuracy: 0.5235 - val_loss: 0.6816 - val_accuracy: 0.5229\n",
            "Epoch 164/200\n",
            "82/82 [==============================] - 0s 4ms/step - loss: 0.6594 - accuracy: 0.5313 - val_loss: 0.6817 - val_accuracy: 0.5229\n",
            "Epoch 165/200\n",
            "82/82 [==============================] - 0s 4ms/step - loss: 0.6506 - accuracy: 0.5300 - val_loss: 0.6818 - val_accuracy: 0.5229\n",
            "Epoch 166/200\n",
            "82/82 [==============================] - 0s 4ms/step - loss: 0.6613 - accuracy: 0.5211 - val_loss: 0.6817 - val_accuracy: 0.5229\n",
            "Epoch 167/200\n",
            "82/82 [==============================] - 0s 4ms/step - loss: 0.6589 - accuracy: 0.5345 - val_loss: 0.6817 - val_accuracy: 0.5229\n",
            "Epoch 168/200\n",
            "82/82 [==============================] - 0s 5ms/step - loss: 0.6541 - accuracy: 0.5285 - val_loss: 0.6817 - val_accuracy: 0.5229\n",
            "Epoch 169/200\n",
            "82/82 [==============================] - 0s 4ms/step - loss: 0.6492 - accuracy: 0.5384 - val_loss: 0.6816 - val_accuracy: 0.5229\n",
            "Epoch 170/200\n",
            "82/82 [==============================] - 0s 4ms/step - loss: 0.6540 - accuracy: 0.5408 - val_loss: 0.6817 - val_accuracy: 0.5229\n",
            "Epoch 171/200\n",
            "82/82 [==============================] - 0s 4ms/step - loss: 0.6573 - accuracy: 0.5295 - val_loss: 0.6817 - val_accuracy: 0.5229\n",
            "Epoch 172/200\n",
            "82/82 [==============================] - 0s 4ms/step - loss: 0.6586 - accuracy: 0.5334 - val_loss: 0.6817 - val_accuracy: 0.5229\n",
            "Epoch 173/200\n",
            "82/82 [==============================] - 0s 4ms/step - loss: 0.6542 - accuracy: 0.5449 - val_loss: 0.6817 - val_accuracy: 0.5229\n",
            "Epoch 174/200\n",
            "82/82 [==============================] - 0s 4ms/step - loss: 0.6546 - accuracy: 0.5338 - val_loss: 0.6817 - val_accuracy: 0.5229\n",
            "Epoch 175/200\n",
            "82/82 [==============================] - 0s 4ms/step - loss: 0.6557 - accuracy: 0.5374 - val_loss: 0.6817 - val_accuracy: 0.5229\n",
            "Epoch 176/200\n",
            "82/82 [==============================] - 0s 4ms/step - loss: 0.6586 - accuracy: 0.5422 - val_loss: 0.6817 - val_accuracy: 0.5229\n",
            "Epoch 177/200\n",
            "82/82 [==============================] - 0s 4ms/step - loss: 0.6530 - accuracy: 0.5278 - val_loss: 0.6818 - val_accuracy: 0.5229\n",
            "Epoch 178/200\n",
            "82/82 [==============================] - 0s 6ms/step - loss: 0.6548 - accuracy: 0.5348 - val_loss: 0.6816 - val_accuracy: 0.5229\n",
            "Epoch 179/200\n",
            "82/82 [==============================] - 0s 5ms/step - loss: 0.6557 - accuracy: 0.5466 - val_loss: 0.6817 - val_accuracy: 0.5229\n",
            "Epoch 180/200\n",
            "82/82 [==============================] - 0s 4ms/step - loss: 0.6541 - accuracy: 0.5297 - val_loss: 0.6817 - val_accuracy: 0.5229\n",
            "Epoch 181/200\n",
            "82/82 [==============================] - 0s 5ms/step - loss: 0.6584 - accuracy: 0.5413 - val_loss: 0.6817 - val_accuracy: 0.5229\n",
            "Epoch 182/200\n",
            "82/82 [==============================] - 0s 4ms/step - loss: 0.6547 - accuracy: 0.5271 - val_loss: 0.6817 - val_accuracy: 0.5229\n",
            "Epoch 183/200\n",
            "82/82 [==============================] - 0s 4ms/step - loss: 0.6559 - accuracy: 0.5395 - val_loss: 0.6818 - val_accuracy: 0.5229\n",
            "Epoch 184/200\n",
            "82/82 [==============================] - 0s 4ms/step - loss: 0.6555 - accuracy: 0.5308 - val_loss: 0.6817 - val_accuracy: 0.5229\n",
            "Epoch 185/200\n",
            "82/82 [==============================] - 0s 5ms/step - loss: 0.6578 - accuracy: 0.5446 - val_loss: 0.6817 - val_accuracy: 0.5229\n",
            "Epoch 186/200\n",
            "82/82 [==============================] - 0s 4ms/step - loss: 0.6559 - accuracy: 0.5385 - val_loss: 0.6817 - val_accuracy: 0.5229\n",
            "Epoch 187/200\n",
            "82/82 [==============================] - 0s 4ms/step - loss: 0.6525 - accuracy: 0.5308 - val_loss: 0.6818 - val_accuracy: 0.5229\n",
            "Epoch 188/200\n",
            "82/82 [==============================] - 0s 4ms/step - loss: 0.6519 - accuracy: 0.5358 - val_loss: 0.6817 - val_accuracy: 0.5229\n",
            "Epoch 189/200\n",
            "82/82 [==============================] - 0s 4ms/step - loss: 0.6538 - accuracy: 0.5428 - val_loss: 0.6817 - val_accuracy: 0.5229\n",
            "Epoch 190/200\n",
            "82/82 [==============================] - 0s 5ms/step - loss: 0.6534 - accuracy: 0.5241 - val_loss: 0.6817 - val_accuracy: 0.5229\n",
            "Epoch 191/200\n",
            "82/82 [==============================] - 0s 4ms/step - loss: 0.6569 - accuracy: 0.5255 - val_loss: 0.6817 - val_accuracy: 0.5229\n",
            "Epoch 192/200\n",
            "82/82 [==============================] - 0s 4ms/step - loss: 0.6533 - accuracy: 0.5426 - val_loss: 0.6817 - val_accuracy: 0.5229\n",
            "Epoch 193/200\n",
            "82/82 [==============================] - 0s 4ms/step - loss: 0.6518 - accuracy: 0.5346 - val_loss: 0.6816 - val_accuracy: 0.5229\n",
            "Epoch 194/200\n",
            "82/82 [==============================] - 0s 4ms/step - loss: 0.6576 - accuracy: 0.5230 - val_loss: 0.6817 - val_accuracy: 0.5229\n",
            "Epoch 195/200\n",
            "82/82 [==============================] - 0s 5ms/step - loss: 0.6546 - accuracy: 0.5443 - val_loss: 0.6817 - val_accuracy: 0.5229\n",
            "Epoch 196/200\n",
            "82/82 [==============================] - 0s 5ms/step - loss: 0.6530 - accuracy: 0.5418 - val_loss: 0.6817 - val_accuracy: 0.5229\n",
            "Epoch 197/200\n",
            "82/82 [==============================] - 0s 4ms/step - loss: 0.6564 - accuracy: 0.5130 - val_loss: 0.6817 - val_accuracy: 0.5229\n",
            "Epoch 198/200\n",
            "82/82 [==============================] - 0s 5ms/step - loss: 0.6531 - accuracy: 0.5313 - val_loss: 0.6817 - val_accuracy: 0.5229\n",
            "Epoch 199/200\n",
            "82/82 [==============================] - 0s 4ms/step - loss: 0.6558 - accuracy: 0.5210 - val_loss: 0.6817 - val_accuracy: 0.5229\n",
            "Epoch 200/200\n",
            "82/82 [==============================] - 0s 4ms/step - loss: 0.6575 - accuracy: 0.5248 - val_loss: 0.6817 - val_accuracy: 0.5229\n"
          ],
          "name": "stdout"
        },
        {
          "output_type": "execute_result",
          "data": {
            "text/plain": [
              "<tensorflow.python.keras.callbacks.History at 0x7f824bd97630>"
            ]
          },
          "metadata": {
            "tags": []
          },
          "execution_count": 37
        }
      ]
    },
    {
      "cell_type": "code",
      "metadata": {
        "id": "x86OCPa-mZpJ"
      },
      "source": [
        "# save model\r\n",
        "keras_file = \"newdevice.h5\"\r\n",
        "model.save(keras_file)"
      ],
      "execution_count": null,
      "outputs": []
    },
    {
      "cell_type": "code",
      "metadata": {
        "colab": {
          "base_uri": "https://localhost:8080/"
        },
        "id": "kdQPAFbynSjB",
        "outputId": "564c8b3d-1368-4eb8-d384-e5f6f46f3606"
      },
      "source": [
        "import tensorflow as tf\r\n",
        "converter = tf.lite.TFLiteConverter.from_keras_model( model )\r\n",
        "model = converter.convert()\r\n",
        "file = open( 'newdevice.tflite' , 'wb' )\r\n",
        "file.write( model )"
      ],
      "execution_count": null,
      "outputs": [
        {
          "output_type": "stream",
          "text": [
            "INFO:tensorflow:Assets written to: /tmp/tmpuakpd7hn/assets\n"
          ],
          "name": "stdout"
        },
        {
          "output_type": "execute_result",
          "data": {
            "text/plain": [
              "735004"
            ]
          },
          "metadata": {
            "tags": []
          },
          "execution_count": 42
        }
      ]
    },
    {
      "cell_type": "code",
      "metadata": {
        "id": "LJz1oKEqnYf4"
      },
      "source": [
        ""
      ],
      "execution_count": null,
      "outputs": []
    }
  ]
}